{
 "cells": [
  {
   "cell_type": "code",
   "execution_count": 2,
   "metadata": {},
   "outputs": [],
   "source": [
    "# always execute this cell first\n",
    "import pandas as pd\n",
    "from matplotlib import pyplot as plt\n",
    "import numpy as np\n",
    "import datetime\n",
    "\n",
    "pd.set_option('display.max_colwidth',None) # display max columns of CSV\n",
    "pd.set_option('display.max_rows',None) # display maximum  rows of CSV\n",
    "twitter_df = pd.read_csv('data/twitter_data.csv')\n",
    "reddit_df = pd.read_csv('data/reddit_data.csv')"
   ]
  },
  {
   "cell_type": "markdown",
   "metadata": {},
   "source": [
    "#### Functions\n"
   ]
  },
  {
   "cell_type": "code",
   "execution_count": 3,
   "metadata": {},
   "outputs": [],
   "source": [
    "\n",
    "def add_readable_datetime(dataFrame):\n",
    "    dataFrame['datetime']=pd.to_datetime(dataFrame['posted_time'].astype(np.int64),unit='s')\n",
    "    return dataFrame\n",
    "\n",
    "def print_sentiment_anayled_piechart_of_coin(start_dateObj,end_dateObj,dataFrame,coinName):\n",
    "    dataFrame=add_readable_datetime(dataFrame)\n",
    "    current_date=start_dateObj\n",
    "    while current_date<=end_dateObj:\n",
    "        filtered_df=dataFrame[(dataFrame['coin_name']==coinName) & (dataFrame['datetime'].dt.date==current_date)]\n",
    "        if not filtered_df.empty:\n",
    "            ones = filtered_df['label'].value_counts().get(1, 0)\n",
    "            zeros = filtered_df['label'].value_counts().get(0, 0)\n",
    "            neg_ones = filtered_df['label'].value_counts().get(-1, 0)\n",
    "\n",
    "            ones = 0 if pd.isna(ones) else ones\n",
    "            zeros = 0 if pd.isna(zeros) else zeros\n",
    "            neg_ones = 0 if pd.isna(neg_ones) else neg_ones\n",
    "            \n",
    "            slices=[ones,zeros,neg_ones]\n",
    "            labelNames=['positives','neutral','negatives']\n",
    "\n",
    "            plt.pie(slices,labels=labelNames,wedgeprops={'edgecolor':'black'},autopct='%1.0f%%')\n",
    "            plt.title(f\"{current_date} chart\")\n",
    "\n",
    "            plt.show()\n",
    "            print(f\"postives={ones}, neutral={zeros}, negatives={neg_ones}\")\n",
    "            display(filtered_df.sort_values('datetime',ascending=False) )\n",
    "        else:\n",
    "            print('\\nthe dataframe is empty in this day:',current_date)\n",
    "\n",
    "        current_date += datetime.timedelta(days=1) # increment day by day\n",
    "\n",
    "\n",
    "def print_all_sorted_posts(dataFrame):\n",
    "    dataFrame=dataFrame.sort_values(by='posted_time',ascending=False)\n",
    "    dataFrame=add_readable_datetime(dataFrame)\n",
    "    return dataFrame\n",
    "\n",
    "\n",
    "def print_info_of_coin(dataFrame,coinName):\n",
    "    dataFrame=dataFrame.sort_values(by='posted_time',ascending=False)\n",
    "    dataFrame=add_readable_datetime(dataFrame)\n",
    "    filt = (dataFrame['coin_name'] == coinName)\n",
    "    return dataFrame[filt]\n",
    "\n",
    "\n",
    "def print_posts_of_given_date(dataFrame,givenDate,coinName):\n",
    "    dataFrame=add_readable_datetime(dataFrame)\n",
    "    filtered_df=twitter_df[(dataFrame['coin_name']==coinName) & (dataFrame['datetime'].dt.date==givenDate)]\n",
    "    return filtered_df\n",
    "\n",
    "\n",
    "def print_sorted_reddit_posts_acording_to_column(start_dateObj,end_dateObj,columnNumber):\n",
    "    columnName=\"\"\n",
    "    if columnNumber == 1:\n",
    "        columnName=\"upvote_ratio\"\n",
    "    elif columnNumber == 2:\n",
    "        columnName=\"post_score\"\n",
    "    elif columnNumber == 3:\n",
    "        columnName=\"num_comments\"\n",
    "\n",
    "    dataFrame=add_readable_datetime(pd.read_csv('data/reddit_data.csv'))\n",
    "    result_df =pd.DataFrame()  # Initialize an empty DataFrame to store the result\n",
    "    current_date=end_dateObj\n",
    "    while current_date>=start_dateObj:\n",
    "        filtered_df=dataFrame[ (dataFrame['datetime'].dt.date==current_date)]\n",
    "        filtered_df=filtered_df.sort_values([columnName,'datetime'],ascending=[False,False])  \n",
    "        if not filtered_df.empty:\n",
    "            display(filtered_df.head(40))\n",
    "        \n",
    "        else:\n",
    "            print('\\nthe dataframe is empty in this day:',current_date)\n",
    "\n",
    "        current_date -= datetime.timedelta(days=1) # increment day by day\n",
    "\n",
    "\n",
    "def print_sorted_twitter_posts_acording_to_column(start_dateObj,end_dateObj,columnNumber):\n",
    "    columnName=\"\"\n",
    "    if columnNumber == 1:\n",
    "        columnName=\"likes\"\n",
    "    elif columnNumber == 2:\n",
    "        columnName=\"replies\"\n",
    "    elif columnNumber == 3:\n",
    "        columnName=\"views\"\n",
    "    elif columnNumber == 4:\n",
    "        columnName=\"retweets\"    \n",
    "\n",
    "    dataFrame=add_readable_datetime(pd.read_csv('data/twitter_data.csv'))\n",
    "    result_df =pd.DataFrame()  # Initialize an empty DataFrame to store the result\n",
    "    current_date=end_dateObj\n",
    "    while current_date>=start_dateObj:\n",
    "        filtered_df=dataFrame[ (dataFrame['datetime'].dt.date==current_date)]\n",
    "        filtered_df=filtered_df.sort_values([columnName,'datetime'],ascending=[False,False])  \n",
    "        if not filtered_df.empty:\n",
    "            display(filtered_df.head(40))\n",
    "        \n",
    "        else:\n",
    "            print('\\nthe dataframe is empty in this day:',current_date)\n",
    "\n",
    "        current_date -= datetime.timedelta(days=1) # increment day by day\n",
    "\n",
    "\n",
    "\n",
    "\n",
    "# def print_sorted_reddit_posts_acording_to_column_2(start_dateObj,end_dateObj,columnNumber):\n",
    "#     #find column\n",
    "#     columnName=1\n",
    "#     if columnNumber == 1:\n",
    "#         columnName=\"upvote_ratio\"\n",
    "#     elif columnNumber == 2:\n",
    "#         columnName=\"post_score\"\n",
    "#     elif columnNumber == 3:\n",
    "#         columnName=\"num_comments\"\n",
    " \n",
    "#     dataFrame=add_readable_datetime(reddit_df)\n",
    "#     mask=(dataFrame['datetime']>=start_dateObj) & (dataFrame['datetime']<=end_dateObj)\n",
    "#     dataFrame=dataFrame.loc[mask]\n",
    "    \n",
    "#     filtered_df=dataFrame.sort_values([columnName,'datetime'],ascending=[False,False])  \n",
    "#     return filtered_df.head(100)\n",
    "\n"
   ]
  },
  {
   "cell_type": "markdown",
   "metadata": {},
   "source": [
    "#### Coin Names\n",
    "```\n",
    "BTC\n",
    "ETH *+\n",
    "ETC\n",
    "Avalanche(AVAX)\n",
    "Solana(SOL) *+\n",
    "Monero(XMR) *+\n",
    "Optimism(OP)\n",
    "PAX Gold(PAXG) \n",
    "Ripple(XRP) *+\n",
    "Arbitrum(ARB)\n",
    "Binance(BNB) *-\n",
    "Cardano(ADA)\n",
    "Cosmos(ATOM)\n",
    "Litecoin(LTC) *+\n",
    "Chainlink(LINK) *+\n",
    "Aave(AAVE)\n",
    "Polygon(MATIC)\n",
    "```"
   ]
  },
  {
   "cell_type": "markdown",
   "metadata": {},
   "source": [
    "#### Get Sorted all  data"
   ]
  },
  {
   "cell_type": "markdown",
   "metadata": {},
   "source": [
    "- #####  Reddit"
   ]
  },
  {
   "cell_type": "code",
   "execution_count": null,
   "metadata": {},
   "outputs": [],
   "source": [
    "# upvote_ratio=1,post_score=2,num_comments=3\n",
    "print_sorted_reddit_posts_acording_to_column(start_dateObj=datetime.date(2023,10,24),end_dateObj=datetime.date(2023,10,25),columnNumber=3)"
   ]
  },
  {
   "cell_type": "code",
   "execution_count": null,
   "metadata": {},
   "outputs": [],
   "source": [
    "print_info_of_coin(dataFrame=reddit_df,coinName='ETH')"
   ]
  },
  {
   "cell_type": "markdown",
   "metadata": {},
   "source": [
    "- #####  Twitter\n"
   ]
  },
  {
   "cell_type": "code",
   "execution_count": null,
   "metadata": {},
   "outputs": [],
   "source": [
    "# likes=1,replies=2,views=3,retweets=4\n",
    "print_sorted_twitter_posts_acording_to_column(start_dateObj=datetime.date(2023,10,24),end_dateObj=datetime.date(2023,10,25),columnNumber=2)"
   ]
  },
  {
   "cell_type": "code",
   "execution_count": null,
   "metadata": {},
   "outputs": [],
   "source": [
    "print_info_of_coin(dataFrame=twitter_df,coinName='ETH')"
   ]
  },
  {
   "cell_type": "markdown",
   "metadata": {},
   "source": [
    "#### Coin Names\n",
    "```\n",
    "BTC\n",
    "ETH *+\n",
    "ETC\n",
    "Avalanche(AVAX)\n",
    "Solana(SOL) *+\n",
    "Monero(XMR) *+\n",
    "Optimism(OP)\n",
    "PAX Gold(PAXG) \n",
    "Ripple(XRP) *+\n",
    "Arbitrum(ARB)\n",
    "Binance(BNB) *-\n",
    "Cardano(ADA)\n",
    "Cosmos(ATOM)\n",
    "Litecoin(LTC) *+\n",
    "Chainlink(LINK) *+\n",
    "Aave(AAVE)\n",
    "Polygon(MATIC)\n",
    "```"
   ]
  },
  {
   "cell_type": "markdown",
   "metadata": {},
   "source": [
    "#### Sentiment Analysis chart "
   ]
  },
  {
   "cell_type": "code",
   "execution_count": 4,
   "metadata": {},
   "outputs": [
    {
     "data": {
      "image/png": "[encoded data removed]",
      "text/plain": [
       "<Figure size 640x480 with 1 Axes>"
      ]
     },
     "metadata": {},
     "output_type": "display_data"
    },
    {
     "name": "stdout",
     "output_type": "stream",
     "text": [
      "postives=1, neutral=2, negatives=0\n"
     ]
    },
    {
     "data": {
      "text/html": [
       "<div>\n",
       "<style scoped>\n",
       "    .dataframe tbody tr th:only-of-type {\n",
       "        vertical-align: middle;\n",
       "    }\n",
       "\n",
       "    .dataframe tbody tr th {\n",
       "        vertical-align: top;\n",
       "    }\n",
       "\n",
       "    .dataframe thead th {\n",
       "        text-align: right;\n",
       "    }\n",
       "</style>\n",
       "<table border=\"1\" class=\"dataframe\">\n",
       "  <thead>\n",
       "    <tr style=\"text-align: right;\">\n",
       "      <th></th>\n",
       "      <th>post_text</th>\n",
       "      <th>posted_time</th>\n",
       "      <th>upvote_ratio</th>\n",
       "      <th>post_score</th>\n",
       "      <th>num_comments</th>\n",
       "      <th>coin_name</th>\n",
       "      <th>label</th>\n",
       "      <th>datetime</th>\n",
       "    </tr>\n",
       "  </thead>\n",
       "  <tbody>\n",
       "    <tr>\n",
       "      <th>1921</th>\n",
       "      <td>Vodafone DAB and Chainlink Labs Demonstrate the Transformation of Global Trade through Blockchain Innovation</td>\n",
       "      <td>1.698165e+09</td>\n",
       "      <td>0.64</td>\n",
       "      <td>10</td>\n",
       "      <td>7</td>\n",
       "      <td>Chainlink(LINK)</td>\n",
       "      <td>1</td>\n",
       "      <td>2023-10-24 16:37:08</td>\n",
       "    </tr>\n",
       "    <tr>\n",
       "      <th>1385</th>\n",
       "      <td>Chainlink Soars to a 17-Month High, With over $100M LINK Exiting Exchanges</td>\n",
       "      <td>1.698106e+09</td>\n",
       "      <td>0.90</td>\n",
       "      <td>7</td>\n",
       "      <td>4</td>\n",
       "      <td>Chainlink(LINK)</td>\n",
       "      <td>0</td>\n",
       "      <td>2023-10-24 00:04:10</td>\n",
       "    </tr>\n",
       "    <tr>\n",
       "      <th>1491</th>\n",
       "      <td>Chainlink Soars to a 17-Month High, With over $100M LINK Exiting Exchanges</td>\n",
       "      <td>1.698106e+09</td>\n",
       "      <td>1.00</td>\n",
       "      <td>1</td>\n",
       "      <td>0</td>\n",
       "      <td>Chainlink(LINK)</td>\n",
       "      <td>0</td>\n",
       "      <td>2023-10-24 00:04:09</td>\n",
       "    </tr>\n",
       "  </tbody>\n",
       "</table>\n",
       "</div>"
      ],
      "text/plain": [
       "                                                                                                         post_text  \\\n",
       "1921  Vodafone DAB and Chainlink Labs Demonstrate the Transformation of Global Trade through Blockchain Innovation   \n",
       "1385                                    Chainlink Soars to a 17-Month High, With over $100M LINK Exiting Exchanges   \n",
       "1491                                    Chainlink Soars to a 17-Month High, With over $100M LINK Exiting Exchanges   \n",
       "\n",
       "       posted_time  upvote_ratio  post_score  num_comments        coin_name  \\\n",
       "1921  1.698165e+09          0.64          10             7  Chainlink(LINK)   \n",
       "1385  1.698106e+09          0.90           7             4  Chainlink(LINK)   \n",
       "1491  1.698106e+09          1.00           1             0  Chainlink(LINK)   \n",
       "\n",
       "      label            datetime  \n",
       "1921      1 2023-10-24 16:37:08  \n",
       "1385      0 2023-10-24 00:04:10  \n",
       "1491      0 2023-10-24 00:04:09  "
      ]
     },
     "metadata": {},
     "output_type": "display_data"
    },
    {
     "name": "stdout",
     "output_type": "stream",
     "text": [
      "\n",
      "the dataframe is empty in this day: 2023-10-25\n"
     ]
    }
   ],
   "source": [
    "\n",
    "print_sentiment_anayled_piechart_of_coin(start_dateObj=datetime.date(2023,10,24),end_dateObj=datetime.date(2023,10,25),dataFrame=pd.read_csv('data/reddit_data.csv'),coinName='Chainlink(LINK)')\n"
   ]
  },
  {
   "cell_type": "code",
   "execution_count": 5,
   "metadata": {},
   "outputs": [
    {
     "data": {
      "image/png": "[encoded data removed]",
      "text/plain": [
       "<Figure size 640x480 with 1 Axes>"
      ]
     },
     "metadata": {},
     "output_type": "display_data"
    },
    {
     "name": "stdout",
     "output_type": "stream",
     "text": [
      "postives=3, neutral=2, negatives=1\n"
     ]
    },
    {
     "data": {
      "text/html": [
       "<div>\n",
       "<style scoped>\n",
       "    .dataframe tbody tr th:only-of-type {\n",
       "        vertical-align: middle;\n",
       "    }\n",
       "\n",
       "    .dataframe tbody tr th {\n",
       "        vertical-align: top;\n",
       "    }\n",
       "\n",
       "    .dataframe thead th {\n",
       "        text-align: right;\n",
       "    }\n",
       "</style>\n",
       "<table border=\"1\" class=\"dataframe\">\n",
       "  <thead>\n",
       "    <tr style=\"text-align: right;\">\n",
       "      <th></th>\n",
       "      <th>tweet</th>\n",
       "      <th>retweets</th>\n",
       "      <th>likes</th>\n",
       "      <th>replies</th>\n",
       "      <th>views</th>\n",
       "      <th>posted_time</th>\n",
       "      <th>coin_name</th>\n",
       "      <th>label</th>\n",
       "      <th>datetime</th>\n",
       "    </tr>\n",
       "  </thead>\n",
       "  <tbody>\n",
       "    <tr>\n",
       "      <th>1002</th>\n",
       "      <td>On 10/25 at 6PM ET, @ChainlinkLabs CCIP Market Strategy Manager @pieterpauwels will be live on Spaces with @77MichaelR to give the community an overview of Chainlink #CCIP's Risk Management Network.Set a reminder for the Space</td>\n",
       "      <td>53.0</td>\n",
       "      <td>347.0</td>\n",
       "      <td>15.0</td>\n",
       "      <td>21300</td>\n",
       "      <td>1698181620</td>\n",
       "      <td>Chainlink(LINK)</td>\n",
       "      <td>-1</td>\n",
       "      <td>2023-10-24 21:07:00</td>\n",
       "    </tr>\n",
       "    <tr>\n",
       "      <th>1000</th>\n",
       "      <td>Episode 79 of the Public Key podcast is all about web3 adoption in traditional finance, with guest @kelmoujahid, Chief Product Officer at @chainlink. https://chainalysis.com/blog/web3-adoption-in-traditional-finance-kemal-el-moujahid-ep-79/…</td>\n",
       "      <td>30.0</td>\n",
       "      <td>135.0</td>\n",
       "      <td>10.0</td>\n",
       "      <td>26300</td>\n",
       "      <td>1698166801</td>\n",
       "      <td>Chainlink(LINK)</td>\n",
       "      <td>0</td>\n",
       "      <td>2023-10-24 17:00:01</td>\n",
       "    </tr>\n",
       "    <tr>\n",
       "      <th>1005</th>\n",
       "      <td>.@VodafoneBiz is collaborating with @ChainlinkLabs on a CCIP-powered global trade use case and has joined the #Chainlink Network as a node operator. CCIP is not just for finance—see how it can connect global trade platforms across any blockchain  https://vodafone.com/news/technology/vodafone-dab-chainlink-lab-demonstrates-transformation-global-trade-blockchain-innovation…</td>\n",
       "      <td>329.0</td>\n",
       "      <td>1292.0</td>\n",
       "      <td>38.0</td>\n",
       "      <td>64300</td>\n",
       "      <td>1698164337</td>\n",
       "      <td>Chainlink(LINK)</td>\n",
       "      <td>0</td>\n",
       "      <td>2023-10-24 16:18:57</td>\n",
       "    </tr>\n",
       "    <tr>\n",
       "      <th>1010</th>\n",
       "      <td>⬡ Introducing Constellation: a Chainlink Hackathon ⬡- Compete for $350K+ in prizes. - Attend expert-run workshops- Get real-time support Take your developer journey to the next level</td>\n",
       "      <td>886.0</td>\n",
       "      <td>6701.0</td>\n",
       "      <td>693.0</td>\n",
       "      <td>8900000</td>\n",
       "      <td>1698160127</td>\n",
       "      <td>Chainlink(LINK)</td>\n",
       "      <td>1</td>\n",
       "      <td>2023-10-24 15:08:47</td>\n",
       "    </tr>\n",
       "    <tr>\n",
       "      <th>1004</th>\n",
       "      <td>Vodafone’s Digital Asset Broker has demonstrated a proof of concept with Sumitomo Corporation, @Chainlink Labs &amp; @InnoWave to address challenges in the global trade ecosystem.Discover how DAB-enabled #IoT devices and blockchains can provide secure data for smart contracts.</td>\n",
       "      <td>220.0</td>\n",
       "      <td>665.0</td>\n",
       "      <td>14.0</td>\n",
       "      <td>62200</td>\n",
       "      <td>1698159626</td>\n",
       "      <td>Chainlink(LINK)</td>\n",
       "      <td>1</td>\n",
       "      <td>2023-10-24 15:00:26</td>\n",
       "    </tr>\n",
       "    <tr>\n",
       "      <th>1006</th>\n",
       "      <td>#Chainlink's economic system continues to rapidly evolve across its three key pillars:• Increased monetization: From the introduction of new payment models to day-one monetization of new services, users are paying for greater oracle security. • Reduced operating costs:…</td>\n",
       "      <td>377.0</td>\n",
       "      <td>1756.0</td>\n",
       "      <td>52.0</td>\n",
       "      <td>165100</td>\n",
       "      <td>1698149231</td>\n",
       "      <td>Chainlink(LINK)</td>\n",
       "      <td>1</td>\n",
       "      <td>2023-10-24 12:07:11</td>\n",
       "    </tr>\n",
       "  </tbody>\n",
       "</table>\n",
       "</div>"
      ],
      "text/plain": [
       "                                                                                                                                                                                                                                                                                                                                                                                       tweet  \\\n",
       "1002                                                                                                                                                     On 10/25 at 6PM ET, @ChainlinkLabs CCIP Market Strategy Manager @pieterpauwels will be live on Spaces with @77MichaelR to give the community an overview of Chainlink #CCIP's Risk Management Network.Set a reminder for the Space    \n",
       "1000                                                                                                                                       Episode 79 of the Public Key podcast is all about web3 adoption in traditional finance, with guest @kelmoujahid, Chief Product Officer at @chainlink. https://chainalysis.com/blog/web3-adoption-in-traditional-finance-kemal-el-moujahid-ep-79/…   \n",
       "1005  .@VodafoneBiz is collaborating with @ChainlinkLabs on a CCIP-powered global trade use case and has joined the #Chainlink Network as a node operator. CCIP is not just for finance—see how it can connect global trade platforms across any blockchain  https://vodafone.com/news/technology/vodafone-dab-chainlink-lab-demonstrates-transformation-global-trade-blockchain-innovation…   \n",
       "1010                                                                                                                                                                                                  ⬡ Introducing Constellation: a Chainlink Hackathon ⬡- Compete for $350K+ in prizes. - Attend expert-run workshops- Get real-time support Take your developer journey to the next level   \n",
       "1004                                                                                                       Vodafone’s Digital Asset Broker has demonstrated a proof of concept with Sumitomo Corporation, @Chainlink Labs & @InnoWave to address challenges in the global trade ecosystem.Discover how DAB-enabled #IoT devices and blockchains can provide secure data for smart contracts.   \n",
       "1006                                                                                                          #Chainlink's economic system continues to rapidly evolve across its three key pillars:• Increased monetization: From the introduction of new payment models to day-one monetization of new services, users are paying for greater oracle security. • Reduced operating costs:…   \n",
       "\n",
       "      retweets   likes  replies    views  posted_time        coin_name  label  \\\n",
       "1002      53.0   347.0     15.0    21300   1698181620  Chainlink(LINK)     -1   \n",
       "1000      30.0   135.0     10.0    26300   1698166801  Chainlink(LINK)      0   \n",
       "1005     329.0  1292.0     38.0    64300   1698164337  Chainlink(LINK)      0   \n",
       "1010     886.0  6701.0    693.0  8900000   1698160127  Chainlink(LINK)      1   \n",
       "1004     220.0   665.0     14.0    62200   1698159626  Chainlink(LINK)      1   \n",
       "1006     377.0  1756.0     52.0   165100   1698149231  Chainlink(LINK)      1   \n",
       "\n",
       "                datetime  \n",
       "1002 2023-10-24 21:07:00  \n",
       "1000 2023-10-24 17:00:01  \n",
       "1005 2023-10-24 16:18:57  \n",
       "1010 2023-10-24 15:08:47  \n",
       "1004 2023-10-24 15:00:26  \n",
       "1006 2023-10-24 12:07:11  "
      ]
     },
     "metadata": {},
     "output_type": "display_data"
    },
    {
     "name": "stdout",
     "output_type": "stream",
     "text": [
      "\n",
      "the dataframe is empty in this day: 2023-10-25\n"
     ]
    }
   ],
   "source": [
    "print_sentiment_anayled_piechart_of_coin(start_dateObj=datetime.date(2023,10,24),end_dateObj=datetime.date(2023,10,25),dataFrame=pd.read_csv('data/twitter_data.csv'),coinName='Chainlink(LINK)')\n"
   ]
  }
 ],
 "metadata": {
  "kernelspec": {
   "display_name": "venv",
   "language": "python",
   "name": "python3"
  },
  "language_info": {
   "codemirror_mode": {
    "name": "ipython",
    "version": 3
   },
   "file_extension": ".py",
   "mimetype": "text/x-python",
   "name": "python",
   "nbconvert_exporter": "python",
   "pygments_lexer": "ipython3",
   "version": "3.11.2"
  },
  "orig_nbformat": 4
 },
 "nbformat": 4,
 "nbformat_minor": 2
}
