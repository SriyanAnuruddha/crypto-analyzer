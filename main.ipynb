{
 "cells": [
  {
   "cell_type": "code",
   "execution_count": 2,
   "metadata": {},
   "outputs": [],
   "source": [
    "# always execute this cell first\n",
    "import pandas as pd\n",
    "from matplotlib import pyplot as plt\n",
    "import numpy as np\n",
    "import datetime\n",
    "\n",
    "pd.set_option('display.max_colwidth',None) # display max columns of CSV\n",
    "pd.set_option('display.max_rows',None) # display maximum  rows of CSV\n",
    "twitter_df = pd.read_csv('data/twitter_data.csv')\n",
    "reddit_df = pd.read_csv('data/reddit_data.csv')"
   ]
  },
  {
   "cell_type": "markdown",
   "metadata": {},
   "source": [
    "#### Functions\n"
   ]
  },
  {
   "cell_type": "code",
   "execution_count": 3,
   "metadata": {},
   "outputs": [],
   "source": [
    "\n",
    "def add_readable_datetime(dataFrame):\n",
    "    dataFrame['datetime']=pd.to_datetime(dataFrame['posted_time'].astype(np.int64),unit='s')\n",
    "    return dataFrame\n",
    "\n",
    "def print_sentiment_anayled_piechart_of_coin(start_dateObj,end_dateObj,dataFrame,coinName):\n",
    "    dataFrame=add_readable_datetime(dataFrame)\n",
    "    current_date=start_dateObj\n",
    "    while current_date<=end_dateObj:\n",
    "        filtered_df=dataFrame[(dataFrame['coin_name']==coinName) & (dataFrame['datetime'].dt.date==current_date)]\n",
    "        if not filtered_df.empty:\n",
    "            ones = filtered_df['label'].value_counts().get(1, 0)\n",
    "            zeros = filtered_df['label'].value_counts().get(0, 0)\n",
    "            neg_ones = filtered_df['label'].value_counts().get(-1, 0)\n",
    "\n",
    "            ones = 0 if pd.isna(ones) else ones\n",
    "            zeros = 0 if pd.isna(zeros) else zeros\n",
    "            neg_ones = 0 if pd.isna(neg_ones) else neg_ones\n",
    "            \n",
    "            slices=[ones,zeros,neg_ones]\n",
    "            labelNames=['positives','neutral','negatives']\n",
    "\n",
    "            plt.pie(slices,labels=labelNames,wedgeprops={'edgecolor':'black'},autopct='%1.0f%%')\n",
    "            plt.title(f\"{current_date} chart\")\n",
    "\n",
    "            plt.show()\n",
    "            print(f\"postives={ones}, neutral={zeros}, negatives={neg_ones}\")\n",
    "            display(filtered_df.sort_values('datetime',ascending=False) )\n",
    "        else:\n",
    "            print('\\nthe dataframe is empty in this day:',current_date)\n",
    "\n",
    "        current_date += datetime.timedelta(days=1) # increment day by day\n",
    "\n",
    "\n",
    "def print_all_sorted_posts(dataFrame):\n",
    "    dataFrame=dataFrame.sort_values(by='posted_time',ascending=False)\n",
    "    dataFrame=add_readable_datetime(dataFrame)\n",
    "    return dataFrame\n",
    "\n",
    "\n",
    "def print_info_of_coin(dataFrame,coinName):\n",
    "    dataFrame=dataFrame.sort_values(by='posted_time',ascending=False)\n",
    "    dataFrame=add_readable_datetime(dataFrame)\n",
    "    filt = (dataFrame['coin_name'] == coinName)\n",
    "    return dataFrame[filt]\n",
    "\n",
    "\n",
    "def print_posts_of_given_date(dataFrame,givenDate,coinName):\n",
    "    dataFrame=add_readable_datetime(dataFrame)\n",
    "    filtered_df=twitter_df[(dataFrame['coin_name']==coinName) & (dataFrame['datetime'].dt.date==givenDate)]\n",
    "    return filtered_df\n",
    "\n",
    "\n",
    "def print_sorted_reddit_posts_acording_to_column(start_dateObj,end_dateObj,columnNumber):\n",
    "    columnName=\"\"\n",
    "    if columnNumber == 1:\n",
    "        columnName=\"upvote_ratio\"\n",
    "    elif columnNumber == 2:\n",
    "        columnName=\"post_score\"\n",
    "    elif columnNumber == 3:\n",
    "        columnName=\"num_comments\"\n",
    "\n",
    "    dataFrame=add_readable_datetime(pd.read_csv('data/reddit_data.csv'))\n",
    "    result_df =pd.DataFrame()  # Initialize an empty DataFrame to store the result\n",
    "    current_date=end_dateObj\n",
    "    while current_date>=start_dateObj:\n",
    "        filtered_df=dataFrame[ (dataFrame['datetime'].dt.date==current_date)]\n",
    "        filtered_df=filtered_df.sort_values([columnName,'datetime'],ascending=[False,False])  \n",
    "        if not filtered_df.empty:\n",
    "            display(filtered_df.head(40))\n",
    "        \n",
    "        else:\n",
    "            print('\\nthe dataframe is empty in this day:',current_date)\n",
    "\n",
    "        current_date -= datetime.timedelta(days=1) # increment day by day\n",
    "\n",
    "\n",
    "def print_sorted_twitter_posts_acording_to_column(start_dateObj,end_dateObj,columnNumber):\n",
    "    columnName=\"\"\n",
    "    if columnNumber == 1:\n",
    "        columnName=\"likes\"\n",
    "    elif columnNumber == 2:\n",
    "        columnName=\"replies\"\n",
    "    elif columnNumber == 3:\n",
    "        columnName=\"views\"\n",
    "    elif columnNumber == 4:\n",
    "        columnName=\"retweets\"    \n",
    "\n",
    "    dataFrame=add_readable_datetime(pd.read_csv('data/twitter_data.csv'))\n",
    "    result_df =pd.DataFrame()  # Initialize an empty DataFrame to store the result\n",
    "    current_date=end_dateObj\n",
    "    while current_date>=start_dateObj:\n",
    "        filtered_df=dataFrame[ (dataFrame['datetime'].dt.date==current_date)]\n",
    "        filtered_df=filtered_df.sort_values([columnName,'datetime'],ascending=[False,False])  \n",
    "        if not filtered_df.empty:\n",
    "            display(filtered_df.head(40))\n",
    "        \n",
    "        else:\n",
    "            print('\\nthe dataframe is empty in this day:',current_date)\n",
    "\n",
    "        current_date -= datetime.timedelta(days=1) # increment day by day\n",
    "\n",
    "\n",
    "\n",
    "\n",
    "# def print_sorted_reddit_posts_acording_to_column_2(start_dateObj,end_dateObj,columnNumber):\n",
    "#     #find column\n",
    "#     columnName=1\n",
    "#     if columnNumber == 1:\n",
    "#         columnName=\"upvote_ratio\"\n",
    "#     elif columnNumber == 2:\n",
    "#         columnName=\"post_score\"\n",
    "#     elif columnNumber == 3:\n",
    "#         columnName=\"num_comments\"\n",
    " \n",
    "#     dataFrame=add_readable_datetime(reddit_df)\n",
    "#     mask=(dataFrame['datetime']>=start_dateObj) & (dataFrame['datetime']<=end_dateObj)\n",
    "#     dataFrame=dataFrame.loc[mask]\n",
    "    \n",
    "#     filtered_df=dataFrame.sort_values([columnName,'datetime'],ascending=[False,False])  \n",
    "#     return filtered_df.head(100)\n",
    "\n"
   ]
  },
  {
   "cell_type": "markdown",
   "metadata": {},
   "source": [
    "#### Coin Names\n",
    "```\n",
    "BTC\n",
    "ETH *+\n",
    "ETC\n",
    "Avalanche(AVAX)\n",
    "Solana(SOL) *+\n",
    "Monero(XMR) *+\n",
    "Optimism(OP)\n",
    "PAX Gold(PAXG) \n",
    "Ripple(XRP) *+\n",
    "Arbitrum(ARB)\n",
    "Binance(BNB) *-\n",
    "Cardano(ADA)\n",
    "Cosmos(ATOM)\n",
    "Litecoin(LTC) *+\n",
    "Chainlink(LINK) *+\n",
    "Aave(AAVE)\n",
    "Polygon(MATIC)\n",
    "```"
   ]
  },
  {
   "cell_type": "markdown",
   "metadata": {},
   "source": [
    "#### Get Sorted all  data"
   ]
  },
  {
   "cell_type": "markdown",
   "metadata": {},
   "source": [
    "- #####  Reddit"
   ]
  },
  {
   "cell_type": "code",
   "execution_count": null,
   "metadata": {},
   "outputs": [],
   "source": [
    "# upvote_ratio=1,post_score=2,num_comments=3\n",
    "print_sorted_reddit_posts_acording_to_column(start_dateObj=datetime.date(2023,10,24),end_dateObj=datetime.date(2023,10,25),columnNumber=3)"
   ]
  },
  {
   "cell_type": "code",
   "execution_count": null,
   "metadata": {},
   "outputs": [],
   "source": [
    "print_info_of_coin(dataFrame=reddit_df,coinName='ETH')"
   ]
  },
  {
   "cell_type": "markdown",
   "metadata": {},
   "source": [
    "- #####  Twitter\n"
   ]
  },
  {
   "cell_type": "code",
   "execution_count": null,
   "metadata": {},
   "outputs": [],
   "source": [
    "# likes=1,replies=2,views=3,retweets=4\n",
    "print_sorted_twitter_posts_acording_to_column(start_dateObj=datetime.date(2023,10,24),end_dateObj=datetime.date(2023,10,25),columnNumber=2)"
   ]
  },
  {
   "cell_type": "code",
   "execution_count": null,
   "metadata": {},
   "outputs": [],
   "source": [
    "print_info_of_coin(dataFrame=twitter_df,coinName='ETH')"
   ]
  },
  {
   "cell_type": "markdown",
   "metadata": {},
   "source": [
    "#### Coin Names\n",
    "```\n",
    "BTC\n",
    "ETH *+\n",
    "ETC\n",
    "Avalanche(AVAX)\n",
    "Solana(SOL) *+\n",
    "Monero(XMR) *+\n",
    "Optimism(OP)\n",
    "PAX Gold(PAXG) \n",
    "Ripple(XRP) *+\n",
    "Arbitrum(ARB)\n",
    "Binance(BNB) *-\n",
    "Cardano(ADA)\n",
    "Cosmos(ATOM)\n",
    "Litecoin(LTC) *+\n",
    "Chainlink(LINK) *+\n",
    "Aave(AAVE)\n",
    "Polygon(MATIC)\n",
    "```"
   ]
  },
  {
   "cell_type": "markdown",
   "metadata": {},
   "source": [
    "#### Sentiment Analysis chart "
   ]
  },
  {
   "cell_type": "code",
   "execution_count": null,
   "metadata": {},
   "outputs": [],
   "source": [
    "\n",
    "print_sentiment_anayled_piechart_of_coin(start_dateObj=datetime.date(2023,10,24),end_dateObj=datetime.date(2023,10,25),dataFrame=pd.read_csv('data/reddit_data.csv'),coinName='Chainlink(LINK)')\n"
   ]
  },
  {
   "cell_type": "code",
   "execution_count": null,
   "metadata": {},
   "outputs": [],
   "source": [
    "print_sentiment_anayled_piechart_of_coin(start_dateObj=datetime.date(2023,10,24),end_dateObj=datetime.date(2023,10,25),dataFrame=pd.read_csv('data/twitter_data.csv'),coinName='Chainlink(LINK)')\n"
   ]
  }
 ],
 "metadata": {
  "kernelspec": {
   "display_name": "venv",
   "language": "python",
   "name": "python3"
  },
  "language_info": {
   "codemirror_mode": {
    "name": "ipython",
    "version": 3
   },
   "file_extension": ".py",
   "mimetype": "text/x-python",
   "name": "python",
   "nbconvert_exporter": "python",
   "pygments_lexer": "ipython3",
   "version": "3.11.2"
  },
  "orig_nbformat": 4
 },
 "nbformat": 4,
 "nbformat_minor": 2
}
